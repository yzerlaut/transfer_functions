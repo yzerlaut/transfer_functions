{
 "metadata": {
  "name": "Kuhn_Study"
 },
 "nbformat": 3,
 "nbformat_minor": 0,
 "worksheets": [
  {
   "cells": [
    {
     "cell_type": "code",
     "collapsed": false,
     "input": [
      "\n",
      "import numpy as np\n",
      "import matplotlib.pylab as plt\n",
      "\n",
      "## PHYSICAL UNITS ###\n",
      "\n",
      "# parameters\n",
      "Gl= 1e-8 ; Cm= 0.2*1e-9; El = -65*1e-3 \n",
      "Ne = 200 ; Qe = 6*1e-9 ; Te = 5*1e-3; Ee = 0*1e-3 ; fe = 4\n",
      "Ni = 50 ; Qi = 64*1e-9 ; Ti = 10*1e-3; Ei = -80*1e-3 ; fi= 10\n",
      "Vthre=-50*1e-3; refrac = 0 ; \n",
      "\n",
      "import tf_filters as tf\n",
      "import process_generators as pg\n",
      "import analytical_formula as af"
     ],
     "language": "python",
     "metadata": {},
     "outputs": [],
     "prompt_number": 1
    },
    {
     "cell_type": "code",
     "collapsed": false,
     "input": [
      "mu_exc, sigma_exc = af.campbell_theorem_single_exp(Ne*fe,Qe,Te)\n",
      "mu_inh, sigma_inh = af.campbell_theorem_single_exp(fi*Ni,Qi,Ti)\n",
      "\n",
      "dt = 1e-4\n",
      "tmax = 2\n",
      "gexc, exc_list = pg.conductance(\n",
      "                       pg.rectify(\n",
      "                           pg.white_gaussian(dt, mu_exc, sigma_exc)\n",
      "                       ), Ee)\n",
      "\n",
      "ginh, inh_list = pg.conductance(\n",
      "                       pg.rectify(\n",
      "                           pg.white_gaussian(dt, mu_inh, sigma_inh)\n",
      "                       ), Ei)\n",
      "\n",
      "t, v_m, spikes = pg.leaky_iaf(tmax, dt, gexc, ginh, Cm=Cm, Gl=Gl, El=El)\n",
      "\n",
      "v = np.linspace(-80e-3,-50e-3,1e2)\n",
      "plt.hist(v_m,bins=v)\n",
      "plt.xlabel('membrane potential')"
     ],
     "language": "python",
     "metadata": {},
     "outputs": [
      {
       "output_type": "pyout",
       "prompt_number": 8,
       "text": [
        "<matplotlib.text.Text at 0x4032f90>"
       ]
      },
      {
       "output_type": "display_data",
       "png": "[encoded data removed]"
      }
     ],
     "prompt_number": 8
    },
    {
     "cell_type": "code",
     "collapsed": false,
     "input": [],
     "language": "python",
     "metadata": {},
     "outputs": []
    }
   ],
   "metadata": {}
  }
 ]
}