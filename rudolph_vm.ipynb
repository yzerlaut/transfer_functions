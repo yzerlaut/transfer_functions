{
 "metadata": {
  "name": "rudolph_vm"
 },
 "nbformat": 3,
 "nbformat_minor": 0,
 "worksheets": [
  {
   "cells": [
    {
     "cell_type": "code",
     "collapsed": false,
     "input": [
      "import numpy as np\n",
      "import matplotlib.pylab as plt\n",
      "\n",
      "# parameters\n",
      "Gl= 1e-8 ; Cm= 0.2*1e-9; El = -65*1e-3 \n",
      "Ne = 200 ; Qe = 6*1e-9 ; Te = 5*1e-3; Ee = 0*1e-3 ; fe = 4\n",
      "Ni = 50 ; Qi = 64*1e-9 ; Ti = 10*1e-3; Ei = -80*1e-3 ; fi= 10\n",
      "Vthre=-50*1e-3; refrac = 5*1e-3 ; \n",
      "\n",
      "import tf_filters as tf"
     ],
     "language": "python",
     "metadata": {},
     "outputs": [],
     "prompt_number": 1
    },
    {
     "cell_type": "code",
     "collapsed": false,
     "input": [
      "def rudolph_rho_v(V,ge,sge,gi,sgi):\n",
      "    \"\"\" here the membrane parameters are global variablaes \"\"\"\n",
      "\n",
      "    A1 = - (2*Cm*(ge+gi)+2*Cm*Gl+sge**2*Te+sgi**2*Ti)\n",
      "    A1 /= 2*(sge**2*Te+sgi**2*Ti)\n",
      "    A2 = 2*Cm*(Gl*(sge**2*Te*(El-Ee)+sgi**2*Ti*(El-Ei))+\\\n",
      "               (ge*sgi**2*Ti-gi*sge**2*Te)*(Ee-Ei))\n",
      "    A2 /= (Ee-Ei)*np.sqrt(sge**2*Te*sgi**2*Ti)*(sge**2*Te+sgi**2*Ti)\n",
      "    a_ln = sge**2*Te/Cm*(V-Ee)**2+sgi**2*Ti/Cm*(V-Ei)**2\n",
      "    a_arctan = sge**2*Te*(V-Ee)+sgi**2*Ti*(V-Ei)\n",
      "    a_arctan /= (Ee-Ei)*np.sqrt(sge**2*Te*sgi**2*Ti)\n",
      "    return np.exp(A1*np.log(a_ln)+A2*np.arctan(a_arctan))\n"
     ],
     "language": "python",
     "metadata": {},
     "outputs": [],
     "prompt_number": 2
    },
    {
     "cell_type": "code",
     "collapsed": false,
     "input": [
      "def gaussian_1d(x, mu, sigma):\n",
      "    return 1./(np.sqrt(2*np.pi)*sigma)*np.exp(-(x-mu)**2/(2*sigma**2))\n",
      "\n",
      "plt.figure(figsize=(10,4))\n",
      "\n",
      "plt.subplot(121)\n",
      "n, bins = np.histogram(1e9*ge,100,density=True)\n",
      "plt.bar(bins[:-1],n,width=bins[1]-bins[0], label='simulation')\n",
      "th_ge_density = gaussian_1d(bins,1e9*mge,1e9*sge)\n",
      "th_ge_density /= th_ge_density.sum()*(bins[1]-bins[0])\n",
      "plt.plot(bins,th_ge_density,'k--',lw=3 ,label='theory')\n",
      "plt.legend(frameon=False,loc='upper left')\n",
      "plt.xlabel('ge (nS)')\n",
      "\n",
      "plt.subplot(122)\n",
      "n, bins = np.histogram(1e9*gi,100,density=True)\n",
      "plt.bar(bins[:-1],n,color='r',width=bins[1]-bins[0],label='simulation')\n",
      "plt.plot(bins, gaussian_1d(bins,1e9*mgi,1e9*sgi),'k--',lw=3 ,label='theory')\n",
      "plt.legend(frameon=False,loc='upper left')\n",
      "plt.xlabel('gi (nS)')\n"
     ],
     "language": "python",
     "metadata": {},
     "outputs": []
    },
    {
     "cell_type": "code",
     "collapsed": false,
     "input": [
      "vv = np.linspace(-90*1e-3,20*1e-3,2e2)\n",
      "th_rudolph = rudolph_rho_v(vv,mge,sge,mgi,sgi)\n",
      "th_rudolph /= np.sum(th_rudolph)*(vv[1]-vv[0])\n",
      "#n, bins = np.histogram(v,bins=100,density=True)\n",
      "#plt.bar(bins[:-1],n,width=bins[1]-bins[0],label='simulation')\n",
      "plt.plot(vv,th_rudolph,'k--',lw=3,label='theory')\n",
      "plt.title(\"distribution of projection coefficients\")\n",
      "plt.legend(frameon=False,loc='upper left');\n",
      "plt.ylim([0,60])"
     ],
     "language": "python",
     "metadata": {},
     "outputs": [
      {
       "ename": "NameError",
       "evalue": "name 'mge' is not defined",
       "output_type": "pyerr",
       "traceback": [
        "\u001b[1;31m---------------------------------------------------------------------------\u001b[0m\n\u001b[1;31mNameError\u001b[0m                                 Traceback (most recent call last)",
        "\u001b[1;32m<ipython-input-3-7c15afcedc8d>\u001b[0m in \u001b[0;36m<module>\u001b[1;34m()\u001b[0m\n\u001b[0;32m      1\u001b[0m \u001b[0mvv\u001b[0m \u001b[1;33m=\u001b[0m \u001b[0mnp\u001b[0m\u001b[1;33m.\u001b[0m\u001b[0mlinspace\u001b[0m\u001b[1;33m(\u001b[0m\u001b[1;33m-\u001b[0m\u001b[1;36m90\u001b[0m\u001b[1;33m*\u001b[0m\u001b[1;36m1e-3\u001b[0m\u001b[1;33m,\u001b[0m\u001b[1;36m20\u001b[0m\u001b[1;33m*\u001b[0m\u001b[1;36m1e-3\u001b[0m\u001b[1;33m,\u001b[0m\u001b[1;36m2e2\u001b[0m\u001b[1;33m)\u001b[0m\u001b[1;33m\u001b[0m\u001b[0m\n\u001b[1;32m----> 2\u001b[1;33m \u001b[0mth_rudolph\u001b[0m \u001b[1;33m=\u001b[0m \u001b[0mrudolph_rho_v\u001b[0m\u001b[1;33m(\u001b[0m\u001b[0mvv\u001b[0m\u001b[1;33m,\u001b[0m\u001b[0mmge\u001b[0m\u001b[1;33m,\u001b[0m\u001b[0msge\u001b[0m\u001b[1;33m,\u001b[0m\u001b[0mmgi\u001b[0m\u001b[1;33m,\u001b[0m\u001b[0msgi\u001b[0m\u001b[1;33m)\u001b[0m\u001b[1;33m\u001b[0m\u001b[0m\n\u001b[0m\u001b[0;32m      3\u001b[0m \u001b[0mth_rudolph\u001b[0m \u001b[1;33m/=\u001b[0m \u001b[0mnp\u001b[0m\u001b[1;33m.\u001b[0m\u001b[0msum\u001b[0m\u001b[1;33m(\u001b[0m\u001b[0mth_rudolph\u001b[0m\u001b[1;33m)\u001b[0m\u001b[1;33m*\u001b[0m\u001b[1;33m(\u001b[0m\u001b[0mvv\u001b[0m\u001b[1;33m[\u001b[0m\u001b[1;36m1\u001b[0m\u001b[1;33m]\u001b[0m\u001b[1;33m-\u001b[0m\u001b[0mvv\u001b[0m\u001b[1;33m[\u001b[0m\u001b[1;36m0\u001b[0m\u001b[1;33m]\u001b[0m\u001b[1;33m)\u001b[0m\u001b[1;33m\u001b[0m\u001b[0m\n\u001b[0;32m      4\u001b[0m \u001b[1;31m#n, bins = np.histogram(v,bins=100,density=True)\u001b[0m\u001b[1;33m\u001b[0m\u001b[1;33m\u001b[0m\u001b[0m\n\u001b[0;32m      5\u001b[0m \u001b[1;31m#plt.bar(bins[:-1],n,width=bins[1]-bins[0],label='simulation')\u001b[0m\u001b[1;33m\u001b[0m\u001b[1;33m\u001b[0m\u001b[0m\n",
        "\u001b[1;31mNameError\u001b[0m: name 'mge' is not defined"
       ]
      }
     ],
     "prompt_number": 3
    },
    {
     "cell_type": "code",
     "collapsed": false,
     "input": [],
     "language": "python",
     "metadata": {},
     "outputs": []
    }
   ],
   "metadata": {}
  }
 ]
}